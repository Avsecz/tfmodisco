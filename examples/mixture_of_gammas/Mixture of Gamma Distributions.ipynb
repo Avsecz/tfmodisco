{
 "cells": [
  {
   "cell_type": "markdown",
   "metadata": {},
   "source": [
    "## Python implementation of mixture of gamma distributions\n",
    "\n",
    "Based on the mixtools R package implementation: https://github.com/cran/mixtools/blob/master/R/gammamixEM.R\n",
    "\n",
    "The code for this implementation resides in: https://github.com/kundajelab/tfmodisco/blob/master/modisco/gammamix.py"
   ]
  },
  {
   "cell_type": "code",
   "execution_count": 1,
   "metadata": {
    "collapsed": false
   },
   "outputs": [],
   "source": [
    "from __future__ import division, print_function"
   ]
  },
  {
   "cell_type": "code",
   "execution_count": 2,
   "metadata": {
    "collapsed": true
   },
   "outputs": [],
   "source": [
    "import numpy as np\n",
    "import scipy\n",
    "from scipy.stats import gamma\n",
    "\n",
    "def sample_from_gamma(n, a, scale):   \n",
    "    return scipy.stats.gamma.ppf(np.random.random(n), a=a, scale=scale)\n",
    "\n",
    "def generate_sim(mixing_proportion, n, a1, scale1, a2, scale2):\n",
    "\n",
    "    all_vals1 = sample_from_gamma(int(n*mixing_proportion),\n",
    "                                  a=a1, scale=scale1)\n",
    "    all_vals2 = sample_from_gamma(int(n*(1-mixing_proportion)),\n",
    "                                  a=a2, scale=scale2)\n",
    "\n",
    "    all_vals = []\n",
    "    all_vals.extend(all_vals1)\n",
    "    all_vals.extend(all_vals2)\n",
    "    return np.array(all_vals)"
   ]
  },
  {
   "cell_type": "code",
   "execution_count": 3,
   "metadata": {
    "collapsed": false
   },
   "outputs": [
    {
     "data": {
      "image/png": "[encoded data removed]",
      "text/plain": [
       "<Figure size 600x400 with 1 Axes>"
      ]
     },
     "metadata": {},
     "output_type": "display_data"
    }
   ],
   "source": [
    "mixing_proportion = 0.9\n",
    "n = 10000\n",
    "\n",
    "a1 = 1\n",
    "scale1 = 3\n",
    "a2 = 10\n",
    "scale2 = 2\n",
    "\n",
    "all_vals = generate_sim(mixing_proportion=mixing_proportion,\n",
    "                      n=n,\n",
    "                      a1=a1,\n",
    "                      scale1=scale1,\n",
    "                      a2=a2,\n",
    "                      scale2=scale2)\n",
    "\n",
    "%matplotlib inline\n",
    "from matplotlib import pyplot as plt\n",
    "plt.hist(all_vals, bins=100)\n",
    "plt.show()"
   ]
  },
  {
   "cell_type": "code",
   "execution_count": 4,
   "metadata": {
    "collapsed": false,
    "scrolled": false
   },
   "outputs": [
    {
     "name": "stdout",
     "output_type": "stream",
     "text": [
      "initial vals: [0.9 0.1] [ 1.14324615 14.12754995] [0.38724116 0.68357074] 2\n",
      "iteration = 1 log-lik diff = 17265.645343566764  log-lik = -25323.870949336233\n",
      "iteration = 2 log-lik diff = 250.94932849791803  log-lik = -25072.921620838315\n",
      "iteration = 3 log-lik diff = 74.81009978681686  log-lik = -24998.111521051498\n",
      "iteration = 4 log-lik diff = 31.88321548893873  log-lik = -24966.22830556256\n",
      "iteration = 5 log-lik diff = 15.917293833008443  log-lik = -24950.31101172955\n",
      "iteration = 6 log-lik diff = 8.710679272691777  log-lik = -24941.60033245686\n",
      "iteration = 7 log-lik diff = 5.063932313951227  log-lik = -24936.536400142908\n",
      "iteration = 8 log-lik diff = 3.083465304636775  log-lik = -24933.45293483827\n",
      "iteration = 9 log-lik diff = 1.9570550092466874  log-lik = -24931.495879829024\n",
      "iteration = 10 log-lik diff = 1.2940679232415278  log-lik = -24930.201811905783\n",
      "iteration = 11 log-lik diff = 0.8950480247294763  log-lik = -24929.306763881053\n",
      "iteration = 12 log-lik diff = 0.6508786093509116  log-lik = -24928.655885271703\n",
      "iteration = 13 log-lik diff = 0.49971347734026494  log-lik = -24928.156171794362\n",
      "iteration = 14 log-lik diff = 0.40594717353087617  log-lik = -24927.75022462083\n",
      "iteration = 15 log-lik diff = 0.34786923456704244  log-lik = -24927.402355386264\n",
      "iteration = 16 log-lik diff = 0.31109761336119846  log-lik = -24927.091257772903\n",
      "iteration = 17 log-lik diff = 0.2915206531943113  log-lik = -24926.79973711971\n",
      "iteration = 18 log-lik diff = 0.2792788338883838  log-lik = -24926.52045828582\n",
      "iteration = 19 log-lik diff = 0.26965317042777315  log-lik = -24926.250805115393\n",
      "iteration = 20 log-lik diff = 0.2672560435930791  log-lik = -24925.9835490718\n",
      "iteration = 21 log-lik diff = 0.2659524742011854  log-lik = -24925.7175965976\n",
      "iteration = 22 log-lik diff = 0.26685458014617325  log-lik = -24925.450742017452\n",
      "iteration = 23 log-lik diff = 0.2681699138593103  log-lik = -24925.182572103593\n",
      "iteration = 24 log-lik diff = 0.2700841310179385  log-lik = -24924.912487972575\n",
      "iteration = 25 log-lik diff = 0.2725498520230758  log-lik = -24924.639938120552\n",
      "iteration = 26 log-lik diff = 0.27521231450737105  log-lik = -24924.364725806045\n",
      "iteration = 27 log-lik diff = 0.27833572326926515  log-lik = -24924.086390082775\n",
      "iteration = 28 log-lik diff = 0.2826532496328582  log-lik = -24923.803736833142\n",
      "iteration = 29 log-lik diff = 0.28426702030265005  log-lik = -24923.51946981284\n",
      "iteration = 30 log-lik diff = 0.28753179468913004  log-lik = -24923.23193801815\n",
      "iteration = 31 log-lik diff = 0.2909837499173591  log-lik = -24922.940954268233\n",
      "iteration = 32 log-lik diff = 0.29420669104365516  log-lik = -24922.64674757719\n",
      "iteration = 33 log-lik diff = 0.2976855790693662  log-lik = -24922.34906199812\n",
      "iteration = 34 log-lik diff = 0.3012453054616344  log-lik = -24922.04781669266\n",
      "iteration = 35 log-lik diff = 0.3050647623203986  log-lik = -24921.74275193034\n",
      "iteration = 36 log-lik diff = 0.3086601828763378  log-lik = -24921.434091747462\n",
      "iteration = 37 log-lik diff = 0.3125590136987739  log-lik = -24921.121532733763\n",
      "iteration = 38 log-lik diff = 0.3165545845331508  log-lik = -24920.80497814923\n",
      "iteration = 39 log-lik diff = 0.32057214316591853  log-lik = -24920.484406006064\n",
      "iteration = 40 log-lik diff = 0.3248091760360694  log-lik = -24920.159596830028\n",
      "iteration = 41 log-lik diff = 0.32918025164326536  log-lik = -24919.830416578385\n",
      "iteration = 42 log-lik diff = 0.3338453533142456  log-lik = -24919.49657122507\n",
      "iteration = 43 log-lik diff = 0.3385371673939517  log-lik = -24919.158034057677\n",
      "iteration = 44 log-lik diff = 0.34339938250923296  log-lik = -24918.814634675167\n",
      "iteration = 45 log-lik diff = 0.3484276939307165  log-lik = -24918.466206981237\n",
      "iteration = 46 log-lik diff = 0.3536555229948135  log-lik = -24918.11255145824\n",
      "iteration = 47 log-lik diff = 0.3590706663308083  log-lik = -24917.75348079191\n",
      "iteration = 48 log-lik diff = 0.3647039593961381  log-lik = -24917.388776832515\n",
      "iteration = 49 log-lik diff = 0.37055367334687617  log-lik = -24917.018223159168\n",
      "iteration = 50 log-lik diff = 0.37667911537209875  log-lik = -24916.641544043796\n",
      "iteration = 51 log-lik diff = 0.38303146450198255  log-lik = -24916.258512579294\n",
      "iteration = 52 log-lik diff = 0.38967556690840865  log-lik = -24915.868837012385\n",
      "iteration = 53 log-lik diff = 0.3965943807561416  log-lik = -24915.47224263163\n",
      "iteration = 54 log-lik diff = 0.4038298040541122  log-lik = -24915.068412827575\n",
      "iteration = 55 log-lik diff = 0.4114007799726096  log-lik = -24914.657012047603\n",
      "iteration = 56 log-lik diff = 0.41932068802634603  log-lik = -24914.237691359576\n",
      "iteration = 57 log-lik diff = 0.4276229104252707  log-lik = -24913.81006844915\n",
      "iteration = 58 log-lik diff = 0.4363200904626865  log-lik = -24913.37374835869\n",
      "iteration = 59 log-lik diff = 0.4454508444068779  log-lik = -24912.92829751428\n",
      "iteration = 60 log-lik diff = 0.4550303157593589  log-lik = -24912.473267198522\n",
      "iteration = 61 log-lik diff = 0.46510656860118615  log-lik = -24912.00816062992\n",
      "iteration = 62 log-lik diff = 0.4756907932678587  log-lik = -24911.532469836653\n",
      "iteration = 63 log-lik diff = 0.4868606700547389  log-lik = -24911.0456091666\n",
      "iteration = 64 log-lik diff = 0.4986034413741436  log-lik = -24910.547005725224\n",
      "iteration = 65 log-lik diff = 0.5109943190327613  log-lik = -24910.03601140619\n",
      "iteration = 66 log-lik diff = 0.5240903324229294  log-lik = -24909.51192107377\n",
      "iteration = 67 log-lik diff = 0.5379064707376529  log-lik = -24908.97401460303\n",
      "iteration = 68 log-lik diff = 0.5525196741436957  log-lik = -24908.421494928887\n",
      "iteration = 69 log-lik diff = 0.567993126289366  log-lik = -24907.853501802598\n",
      "iteration = 70 log-lik diff = 0.5843822468159487  log-lik = -24907.26911955578\n",
      "iteration = 71 log-lik diff = 0.6017528135198518  log-lik = -24906.667366742262\n",
      "iteration = 72 log-lik diff = 0.6201844696297485  log-lik = -24906.047182272632\n",
      "iteration = 73 log-lik diff = 0.639782106201892  log-lik = -24905.40740016643\n",
      "iteration = 74 log-lik diff = 0.6606164664553944  log-lik = -24904.746783699975\n",
      "iteration = 75 log-lik diff = 0.6827942247218743  log-lik = -24904.063989475253\n",
      "iteration = 76 log-lik diff = 0.7064251710398821  log-lik = -24903.357564304213\n",
      "iteration = 77 log-lik diff = 0.731611097617133  log-lik = -24902.625953206596\n",
      "iteration = 78 log-lik diff = 0.7585172295330267  log-lik = -24901.867435977063\n",
      "iteration = 79 log-lik diff = 0.7872695840160304  log-lik = -24901.080166393047\n",
      "iteration = 80 log-lik diff = 0.8179781236758572  log-lik = -24900.26218826937\n",
      "iteration = 81 log-lik diff = 0.8509033571608597  log-lik = -24899.41128491221\n",
      "iteration = 82 log-lik diff = 0.8861461903470627  log-lik = -24898.525138721863\n",
      "iteration = 83 log-lik diff = 0.9239706182161171  log-lik = -24897.601168103647\n",
      "iteration = 84 log-lik diff = 0.9646115518626175  log-lik = -24896.636556551784\n",
      "iteration = 85 log-lik diff = 1.0083035835486953  log-lik = -24895.628252968236\n",
      "iteration = 86 log-lik diff = 1.0552686286682729  log-lik = -24894.572984339567\n",
      "iteration = 87 log-lik diff = 1.1058647888348787  log-lik = -24893.467119550733\n",
      "iteration = 88 log-lik diff = 1.1602540884887276  log-lik = -24892.306865462244\n",
      "iteration = 89 log-lik diff = 1.2188851117498416  log-lik = -24891.087980350494\n",
      "iteration = 90 log-lik diff = 1.2819939300861733  log-lik = -24889.805986420408\n",
      "iteration = 91 log-lik diff = 1.3500150033396494  log-lik = -24888.45597141707\n",
      "iteration = 92 log-lik diff = 1.423345734081522  log-lik = -24887.032625682987\n",
      "iteration = 93 log-lik diff = 1.5023683621657256  log-lik = -24885.53025732082\n",
      "iteration = 94 log-lik diff = 1.5871827281771402  log-lik = -24883.943074592644\n",
      "iteration = 95 log-lik diff = 1.678527457996097  log-lik = -24882.264547134648\n",
      "iteration = 96 log-lik diff = 1.7765202717782813  log-lik = -24880.48802686287\n",
      "iteration = 97 log-lik diff = 1.881433196431317  log-lik = -24878.606593666438\n",
      "iteration = 98 log-lik diff = 1.9931493086842238  log-lik = -24876.613444357754\n",
      "iteration = 99 log-lik diff = 2.111661420130986  log-lik = -24874.501782937623\n",
      "iteration = 100 log-lik diff = 2.2343446656377637  log-lik = -24872.267438271985\n",
      "iteration = 101 log-lik diff = 2.3640639350996935  log-lik = -24869.903374336885\n",
      "iteration = 102 log-lik diff = 2.497801768069621  log-lik = -24867.405572568816\n",
      "iteration = 103 log-lik diff = 2.6336106837989064  log-lik = -24864.771961885017\n",
      "iteration = 104 log-lik diff = 2.7687329043255886  log-lik = -24862.00322898069\n",
      "iteration = 105 log-lik diff = 2.899142214337189  log-lik = -24859.104086766354\n",
      "iteration = 106 log-lik diff = 3.0201758976691053  log-lik = -24856.083910868685\n",
      "iteration = 107 log-lik diff = 3.125724338406144  log-lik = -24852.95818653028\n",
      "iteration = 108 log-lik diff = 3.2087123562050692  log-lik = -24849.749474174074\n",
      "iteration = 109 log-lik diff = 3.261525966536283  log-lik = -24846.487948207538\n",
      "iteration = 110 log-lik diff = 3.2730773716066324  log-lik = -24843.21487083593\n",
      "iteration = 111 log-lik diff = 3.2401193021942163  log-lik = -24839.974751533737\n",
      "iteration = 112 log-lik diff = 3.155766499981837  log-lik = -24836.818985033755\n",
      "iteration = 113 log-lik diff = 3.0162771763025376  log-lik = -24833.802707857452\n",
      "iteration = 114 log-lik diff = 2.835153868123598  log-lik = -24830.96755398933\n",
      "iteration = 115 log-lik diff = 2.600773721253063  log-lik = -24828.366780268076\n",
      "iteration = 116 log-lik diff = 2.33189314215997  log-lik = -24826.034887125916\n",
      "iteration = 117 log-lik diff = 2.043253588672087  log-lik = -24823.991633537244\n",
      "iteration = 118 log-lik diff = 1.7502388399771007  log-lik = -24822.241394697267\n",
      "iteration = 119 log-lik diff = 1.4671904783826903  log-lik = -24820.774204218884\n",
      "iteration = 120 log-lik diff = 1.2007675798231503  log-lik = -24819.57343663906\n",
      "iteration = 121 log-lik diff = 0.9724673871605773  log-lik = -24818.6009692519\n",
      "iteration = 122 log-lik diff = 0.7722415912576253  log-lik = -24817.828727660642\n",
      "iteration = 123 log-lik diff = 0.6009272343944758  log-lik = -24817.227800426248\n",
      "iteration = 124 log-lik diff = 0.4634815439931117  log-lik = -24816.764318882255\n",
      "iteration = 125 log-lik diff = 0.35362281921334215  log-lik = -24816.41069606304\n",
      "iteration = 126 log-lik diff = 0.2671524131728802  log-lik = -24816.14354364987\n",
      "iteration = 127 log-lik diff = 0.20070823623245815  log-lik = -24815.942835413636\n",
      "iteration = 128 log-lik diff = 0.12551739671107498  log-lik = -24815.817318016925\n",
      "iteration = 129 log-lik diff = 0.11938959291364881  log-lik = -24815.69792842401\n",
      "iteration = 130 log-lik diff = 0.08479150051425677  log-lik = -24815.613136923497\n",
      "iteration = 131 log-lik diff = 0.06199025696696481  log-lik = -24815.55114666653\n",
      "iteration = 132 log-lik diff = 0.045332559897360625  log-lik = -24815.505814106633\n",
      "iteration = 133 log-lik diff = 0.01993019220753922  log-lik = -24815.485883914425\n",
      "iteration = 134 log-lik diff = 0.02929850324653671  log-lik = -24815.45658541118\n",
      "iteration = 135 log-lik diff = 0.010247444002743578  log-lik = -24815.446337967176\n",
      "iteration = 136 log-lik diff = 0.014033684325113427  log-lik = -24815.43230428285\n",
      "iteration = 137 log-lik diff = 0.006297419160546269  log-lik = -24815.42600686369\n",
      "iteration = 138 log-lik diff = 0.0027250611419731285  log-lik = -24815.42328180255\n",
      "iteration = 139 log-lik diff = 0.0008449802953691687  log-lik = -24815.422436822253\n",
      "Number of iterations= 139\n"
     ]
    }
   ],
   "source": [
    "import sys\n",
    "sys.path.insert(-1,\"../../modisco\")\n",
    "import gammamix\n",
    "results = gammamix.gammamix_em(all_vals, mix_prop=np.array([0.9, 0.1]), verb=True)"
   ]
  },
  {
   "cell_type": "code",
   "execution_count": 5,
   "metadata": {
    "collapsed": false,
    "scrolled": false
   },
   "outputs": [
    {
     "name": "stdout",
     "output_type": "stream",
     "text": [
      "MixParams(mix_prop=array([0.9027165, 0.0972835]), alpha=array([ 0.97826373, 11.23563612]), invbeta=array([3.11624341, 1.80398973]), k=2)\n"
     ]
    },
    {
     "data": {
      "image/png": "[encoded data removed]",
      "text/plain": [
       "<Figure size 600x400 with 1 Axes>"
      ]
     },
     "metadata": {},
     "output_type": "display_data"
    }
   ],
   "source": [
    "print(results.params)\n",
    "plt.hist(generate_sim(mixing_proportion=results[0].mix_prop[0],\n",
    "                      n=n,\n",
    "                      a1=results[0].alpha[0],\n",
    "                      scale1=(results[0].invbeta[0]),\n",
    "                      a2=results[0].alpha[1],\n",
    "                      scale2=(results[0].invbeta[1])), bins=100)\n",
    "plt.hist(all_vals,alpha=0.5, bins=100)\n",
    "plt.show()"
   ]
  },
  {
   "cell_type": "code",
   "execution_count": null,
   "metadata": {
    "collapsed": true
   },
   "outputs": [],
   "source": []
  }
 ],
 "metadata": {
  "kernelspec": {
   "display_name": "Python 2",
   "language": "python",
   "name": "python2"
  },
  "language_info": {
   "codemirror_mode": {
    "name": "ipython",
    "version": 2
   },
   "file_extension": ".py",
   "mimetype": "text/x-python",
   "name": "python",
   "nbconvert_exporter": "python",
   "pygments_lexer": "ipython2",
   "version": "2.7.12"
  }
 },
 "nbformat": 4,
 "nbformat_minor": 0
}
