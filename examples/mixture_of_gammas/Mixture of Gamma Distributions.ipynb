{
 "cells": [
  {
   "cell_type": "code",
   "execution_count": 1,
   "metadata": {
    "collapsed": false
   },
   "outputs": [],
   "source": [
    "from __future__ import division, print_function"
   ]
  },
  {
   "cell_type": "code",
   "execution_count": 2,
   "metadata": {
    "collapsed": true
   },
   "outputs": [],
   "source": [
    "import numpy as np\n",
    "import scipy\n",
    "from scipy.stats import gamma\n",
    "\n",
    "def sample_from_gamma(n, a, scale):   \n",
    "    return scipy.stats.gamma.ppf(np.random.random(n), a=a, scale=scale)\n",
    "\n",
    "def generate_sim(mixing_proportion, n, a1, scale1, a2, scale2):\n",
    "\n",
    "    all_vals1 = sample_from_gamma(int(n*mixing_proportion),\n",
    "                                  a=a1, scale=scale1)\n",
    "    all_vals2 = sample_from_gamma(int(n*(1-mixing_proportion)),\n",
    "                                  a=a2, scale=scale2)\n",
    "\n",
    "    all_vals = []\n",
    "    all_vals.extend(all_vals1)\n",
    "    all_vals.extend(all_vals2)\n",
    "    return np.array(all_vals)"
   ]
  },
  {
   "cell_type": "code",
   "execution_count": 3,
   "metadata": {
    "collapsed": false
   },
   "outputs": [
    {
     "data": {
      "image/png": "[encoded data removed]",
      "text/plain": [
       "<Figure size 600x400 with 1 Axes>"
      ]
     },
     "metadata": {},
     "output_type": "display_data"
    }
   ],
   "source": [
    "mixing_proportion = 0.9\n",
    "n = 10000\n",
    "\n",
    "a1 = 1\n",
    "scale1 = 3\n",
    "a2 = 10\n",
    "scale2 = 2\n",
    "\n",
    "all_vals = generate_sim(mixing_proportion=mixing_proportion,\n",
    "                      n=n,\n",
    "                      a1=a1,\n",
    "                      scale1=scale1,\n",
    "                      a2=a2,\n",
    "                      scale2=scale2)\n",
    "\n",
    "%matplotlib inline\n",
    "from matplotlib import pyplot as plt\n",
    "plt.hist(all_vals, bins=100)\n",
    "plt.show()"
   ]
  },
  {
   "cell_type": "code",
   "execution_count": 4,
   "metadata": {
    "collapsed": false,
    "scrolled": false
   },
   "outputs": [
    {
     "name": "stdout",
     "output_type": "stream",
     "text": [
      "initial vals: [0.9 0.1] [ 1.15888088 14.59281898] [0.39067239 0.71360545] 2\n",
      "iteration = 1 log-lik diff = 17507.1311687752  log-lik = -25295.27552128599\n",
      "iteration = 2 log-lik diff = 237.86217844858766  log-lik = -25057.4133428374\n",
      "iteration = 3 log-lik diff = 67.08711097253763  log-lik = -24990.326231864863\n",
      "iteration = 4 log-lik diff = 27.09756832632047  log-lik = -24963.228663538543\n",
      "iteration = 5 log-lik diff = 12.863851374826481  log-lik = -24950.364812163716\n",
      "iteration = 6 log-lik diff = 6.718761320596968  log-lik = -24943.64605084312\n",
      "iteration = 7 log-lik diff = 3.7579038054464036  log-lik = -24939.888147037673\n",
      "iteration = 8 log-lik diff = 2.231862868062308  log-lik = -24937.65628416961\n",
      "iteration = 9 log-lik diff = 1.4096352082051453  log-lik = -24936.246648961405\n",
      "iteration = 10 log-lik diff = 0.9534307807625737  log-lik = -24935.293218180643\n",
      "iteration = 11 log-lik diff = 0.6978542044562346  log-lik = -24934.595363976186\n",
      "iteration = 12 log-lik diff = 0.5489931881093071  log-lik = -24934.046370788077\n",
      "iteration = 13 log-lik diff = 0.46560644493001746  log-lik = -24933.580764343147\n",
      "iteration = 14 log-lik diff = 0.4192136917808966  log-lik = -24933.161550651366\n",
      "iteration = 15 log-lik diff = 0.39353180307807634  log-lik = -24932.76801884829\n",
      "iteration = 16 log-lik diff = 0.38091168960090727  log-lik = -24932.387107158687\n",
      "iteration = 17 log-lik diff = 0.37554935160369496  log-lik = -24932.011557807084\n",
      "iteration = 18 log-lik diff = 0.37464574779733084  log-lik = -24931.636912059286\n",
      "iteration = 19 log-lik diff = 0.3764601530310756  log-lik = -24931.260451906255\n",
      "iteration = 20 log-lik diff = 0.3798405980123789  log-lik = -24930.880611308243\n",
      "iteration = 21 log-lik diff = 0.3842190078285057  log-lik = -24930.496392300414\n",
      "iteration = 22 log-lik diff = 0.3892153773267637  log-lik = -24930.107176923088\n",
      "iteration = 23 log-lik diff = 0.3947389942732116  log-lik = -24929.712437928814\n",
      "iteration = 24 log-lik diff = 0.4004601741762599  log-lik = -24929.311977754638\n",
      "iteration = 25 log-lik diff = 0.4065356390456145  log-lik = -24928.905442115592\n",
      "iteration = 26 log-lik diff = 0.4128141418659652  log-lik = -24928.492627973726\n",
      "iteration = 27 log-lik diff = 0.4193213173712138  log-lik = -24928.073306656355\n",
      "iteration = 28 log-lik diff = 0.42609314400397125  log-lik = -24927.64721351235\n",
      "iteration = 29 log-lik diff = 0.43308650289691286  log-lik = -24927.214127009454\n",
      "iteration = 30 log-lik diff = 0.4403601954218175  log-lik = -24926.773766814033\n",
      "iteration = 31 log-lik diff = 0.4479121858930739  log-lik = -24926.32585462814\n",
      "iteration = 32 log-lik diff = 0.4557697623495187  log-lik = -24925.87008486579\n",
      "iteration = 33 log-lik diff = 0.4639244855934521  log-lik = -24925.406160380197\n",
      "iteration = 34 log-lik diff = 0.47245598669178435  log-lik = -24924.933704393505\n",
      "iteration = 35 log-lik diff = 0.4813292231337982  log-lik = -24924.45237517037\n",
      "iteration = 36 log-lik diff = 0.4906236062415701  log-lik = -24923.96175156413\n",
      "iteration = 37 log-lik diff = 0.5003403325608815  log-lik = -24923.46141123157\n",
      "iteration = 38 log-lik diff = 0.5105333291940042  log-lik = -24922.950877902374\n",
      "iteration = 39 log-lik diff = 0.5211677239713026  log-lik = -24922.429710178403\n",
      "iteration = 40 log-lik diff = 0.5324823691298661  log-lik = -24921.897227809273\n",
      "iteration = 41 log-lik diff = 0.5443368659580301  log-lik = -24921.352890943315\n",
      "iteration = 42 log-lik diff = 0.5566367990977596  log-lik = -24920.796254144218\n",
      "iteration = 43 log-lik diff = 0.5697052004761645  log-lik = -24920.22654894374\n",
      "iteration = 44 log-lik diff = 0.5834609662888397  log-lik = -24919.643087977453\n",
      "iteration = 45 log-lik diff = 0.5980099582120602  log-lik = -24919.04507801924\n",
      "iteration = 46 log-lik diff = 0.6133908563060686  log-lik = -24918.431687162934\n",
      "iteration = 47 log-lik diff = 0.629647548586945  log-lik = -24917.802039614347\n",
      "iteration = 48 log-lik diff = 0.6469494876328099  log-lik = -24917.155090126715\n",
      "iteration = 49 log-lik diff = 0.6652955901918176  log-lik = -24916.489794536523\n",
      "iteration = 50 log-lik diff = 0.6847600445398712  log-lik = -24915.805034491983\n",
      "iteration = 51 log-lik diff = 0.7054193882613617  log-lik = -24915.09961510372\n",
      "iteration = 52 log-lik diff = 0.7274207609007135  log-lik = -24914.37219434282\n",
      "iteration = 53 log-lik diff = 0.7503664122232294  log-lik = -24913.621827930598\n",
      "iteration = 54 log-lik diff = 0.7752312736774911  log-lik = -24912.84659665692\n",
      "iteration = 55 log-lik diff = 0.8017028528847732  log-lik = -24912.044893804035\n",
      "iteration = 56 log-lik diff = 0.8300108073744923  log-lik = -24911.21488299666\n",
      "iteration = 57 log-lik diff = 0.8602375885056972  log-lik = -24910.354645408155\n",
      "iteration = 58 log-lik diff = 0.8926323343803233  log-lik = -24909.462013073775\n",
      "iteration = 59 log-lik diff = 0.9272674213061691  log-lik = -24908.53474565247\n",
      "iteration = 60 log-lik diff = 0.9643931502505438  log-lik = -24907.570352502218\n",
      "iteration = 61 log-lik diff = 1.0042520048009465  log-lik = -24906.566100497417\n",
      "iteration = 62 log-lik diff = 1.0470104942287435  log-lik = -24905.51909000319\n",
      "iteration = 63 log-lik diff = 1.092995361530484  log-lik = -24904.426094641658\n",
      "iteration = 64 log-lik diff = 1.1423198532284005  log-lik = -24903.28377478843\n",
      "iteration = 65 log-lik diff = 1.1961186074368015  log-lik = -24902.087656180993\n",
      "iteration = 66 log-lik diff = 1.2525432340698899  log-lik = -24900.835112946923\n",
      "iteration = 67 log-lik diff = 1.3139098507162998  log-lik = -24899.521203096207\n",
      "iteration = 68 log-lik diff = 1.3798498391297471  log-lik = -24898.141353257077\n",
      "iteration = 69 log-lik diff = 1.4507162371410232  log-lik = -24896.690637019936\n",
      "iteration = 70 log-lik diff = 1.5268309717066586  log-lik = -24895.16380604823\n",
      "iteration = 71 log-lik diff = 1.60839264876995  log-lik = -24893.55541339946\n",
      "iteration = 72 log-lik diff = 1.695802505222673  log-lik = -24891.859610894237\n",
      "iteration = 73 log-lik diff = 1.7890545083973848  log-lik = -24890.07055638584\n",
      "iteration = 74 log-lik diff = 1.8881941308973182  log-lik = -24888.182362254942\n",
      "iteration = 75 log-lik diff = 1.9932710305947694  log-lik = -24886.189091224347\n",
      "iteration = 76 log-lik diff = 2.103922411115491  log-lik = -24884.08516881323\n",
      "iteration = 77 log-lik diff = 2.2194139761013503  log-lik = -24881.86575483713\n",
      "iteration = 78 log-lik diff = 2.3389165647568007  log-lik = -24879.526838272373\n",
      "iteration = 79 log-lik diff = 2.4609094348197686  log-lik = -24877.065928837554\n",
      "iteration = 80 log-lik diff = 2.5836622713832185  log-lik = -24874.48226656617\n",
      "iteration = 81 log-lik diff = 2.704324634207296  log-lik = -24871.777941931963\n",
      "iteration = 82 log-lik diff = 2.819448063535674  log-lik = -24868.958493868427\n",
      "iteration = 83 log-lik diff = 2.9250829221418826  log-lik = -24866.033410946286\n",
      "iteration = 84 log-lik diff = 3.016056488657341  log-lik = -24863.01735445763\n",
      "iteration = 85 log-lik diff = 3.0849334036793152  log-lik = -24859.93242105395\n",
      "iteration = 86 log-lik diff = 3.129346671703388  log-lik = -24856.803074382246\n",
      "iteration = 87 log-lik diff = 3.140468215366127  log-lik = -24853.66260616688\n",
      "iteration = 88 log-lik diff = 3.115050129395968  log-lik = -24850.547556037483\n",
      "iteration = 89 log-lik diff = 3.0494489413540578  log-lik = -24847.49810709613\n",
      "iteration = 90 log-lik diff = 2.939589939382131  log-lik = -24844.558517156747\n",
      "iteration = 91 log-lik diff = 2.786010192892718  log-lik = -24841.772506963855\n",
      "iteration = 92 log-lik diff = 2.601715988952492  log-lik = -24839.170790974902\n",
      "iteration = 93 log-lik diff = 2.384643351753766  log-lik = -24836.78614762315\n",
      "iteration = 94 log-lik diff = 2.145610668401787  log-lik = -24834.640536954746\n",
      "iteration = 95 log-lik diff = 1.8957110711126006  log-lik = -24832.744825883634\n",
      "iteration = 96 log-lik diff = 1.6453740163597104  log-lik = -24831.099451867274\n",
      "iteration = 97 log-lik diff = 1.4041963110576035  log-lik = -24829.695255556217\n",
      "iteration = 98 log-lik diff = 1.1793717110667785  log-lik = -24828.51588384515\n",
      "iteration = 99 log-lik diff = 0.9722989041001711  log-lik = -24827.54358494105\n",
      "iteration = 100 log-lik diff = 0.7975993755571835  log-lik = -24826.745985565492\n",
      "iteration = 101 log-lik diff = 0.643860162657802  log-lik = -24826.102125402835\n",
      "iteration = 102 log-lik diff = 0.5123722503012687  log-lik = -24825.589753152533\n",
      "iteration = 103 log-lik diff = 0.40482420794432983  log-lik = -24825.18492894459\n",
      "iteration = 104 log-lik diff = 0.3173751823196653  log-lik = -24824.86755376227\n",
      "iteration = 105 log-lik diff = 0.24723579037527088  log-lik = -24824.620317971894\n",
      "iteration = 106 log-lik diff = 0.19106577452112106  log-lik = -24824.429252197373\n",
      "iteration = 107 log-lik diff = 0.14715121553308563  log-lik = -24824.28210098184\n",
      "iteration = 108 log-lik diff = 0.11250301573818433  log-lik = -24824.1695979661\n",
      "iteration = 109 log-lik diff = 0.0739944497581746  log-lik = -24824.095603516344\n",
      "iteration = 110 log-lik diff = 0.07027933251083596  log-lik = -24824.025324183833\n",
      "iteration = 111 log-lik diff = 0.050873890719230985  log-lik = -24823.974450293113\n",
      "iteration = 112 log-lik diff = 0.038275102349871304  log-lik = -24823.936175190764\n",
      "iteration = 113 log-lik diff = 0.01732601743788109  log-lik = -24823.918849173326\n",
      "iteration = 114 log-lik diff = 0.026290171506843762  log-lik = -24823.89255900182\n",
      "iteration = 115 log-lik diff = 0.00949227913224604  log-lik = -24823.883066722687\n",
      "iteration = 116 log-lik diff = 0.017403263795131352  log-lik = -24823.86566345889\n",
      "iteration = 117 log-lik diff = 0.005819871788844466  log-lik = -24823.859843587103\n",
      "iteration = 118 log-lik diff = 0.011003576291841455  log-lik = -24823.84884001081\n",
      "iteration = 119 log-lik diff = 0.002864162757759914  log-lik = -24823.845975848053\n",
      "iteration = 120 log-lik diff = 0.007087812900863355  log-lik = -24823.838888035152\n",
      "iteration = 121 log-lik diff = 0.0018604554752528202  log-lik = -24823.837027579677\n",
      "iteration = 122 log-lik diff = 0.0014202589372871444  log-lik = -24823.83560732074\n",
      "iteration = 123 log-lik diff = 0.00029483284379239194  log-lik = -24823.835312487896\n",
      "Number of iterations= 123\n"
     ]
    }
   ],
   "source": [
    "import sys\n",
    "sys.path.insert(-1,\"../../modisco\")\n",
    "import gammamix\n",
    "results = gammamix.gammamix_em(all_vals, mix_prop=np.array([0.9, 0.1]), verb=True)"
   ]
  },
  {
   "cell_type": "code",
   "execution_count": 7,
   "metadata": {
    "collapsed": false,
    "scrolled": false
   },
   "outputs": [
    {
     "name": "stdout",
     "output_type": "stream",
     "text": [
      "MixParams(mix_prop=array([0.89851561, 0.10148439]), alpha=array([ 1.02242699, 10.90110236]), invbeta=array([2.9469309 , 1.81447357]), k=2)\n"
     ]
    },
    {
     "data": {
      "image/png": "[encoded data removed]",
      "text/plain": [
       "<Figure size 600x400 with 1 Axes>"
      ]
     },
     "metadata": {},
     "output_type": "display_data"
    }
   ],
   "source": [
    "print(results.params)\n",
    "plt.hist(generate_sim(mixing_proportion=results[0].mix_prop[0],\n",
    "                      n=n,\n",
    "                      a1=results[0].alpha[0],\n",
    "                      scale1=(results[0].invbeta[0]),\n",
    "                      a2=results[0].alpha[1],\n",
    "                      scale2=(results[0].invbeta[1])), bins=100)\n",
    "plt.hist(all_vals,alpha=0.5, bins=100)\n",
    "plt.show()"
   ]
  }
 ],
 "metadata": {
  "kernelspec": {
   "display_name": "Python 2",
   "language": "python",
   "name": "python2"
  },
  "language_info": {
   "codemirror_mode": {
    "name": "ipython",
    "version": 2
   },
   "file_extension": ".py",
   "mimetype": "text/x-python",
   "name": "python",
   "nbconvert_exporter": "python",
   "pygments_lexer": "ipython2",
   "version": "2.7.12"
  }
 },
 "nbformat": 4,
 "nbformat_minor": 0
}
