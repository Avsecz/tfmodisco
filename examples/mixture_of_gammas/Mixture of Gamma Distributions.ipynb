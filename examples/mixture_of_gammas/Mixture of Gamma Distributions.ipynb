{
 "cells": [
  {
   "cell_type": "markdown",
   "metadata": {},
   "source": [
    "## Python implementation of mixture of gamma distributions\n",
    "\n",
    "Based on the mixtools R package implementation: https://github.com/cran/mixtools/blob/master/R/gammamixEM.R\n",
    "\n",
    "The code for this implementation resides in: https://github.com/kundajelab/tfmodisco/blob/master/modisco/gammamix.py"
   ]
  },
  {
   "cell_type": "code",
   "execution_count": 1,
   "metadata": {
    "collapsed": false
   },
   "outputs": [],
   "source": [
    "from __future__ import division, print_function"
   ]
  },
  {
   "cell_type": "code",
   "execution_count": 2,
   "metadata": {
    "collapsed": true
   },
   "outputs": [],
   "source": [
    "import numpy as np\n",
    "import scipy\n",
    "from scipy.stats import gamma\n",
    "\n",
    "def sample_from_gamma(n, a, scale):   \n",
    "    return scipy.stats.gamma.ppf(np.random.random(n), a=a, scale=scale)\n",
    "\n",
    "def generate_sim(mixing_proportion, n, a1, scale1, a2, scale2):\n",
    "\n",
    "    all_vals1 = sample_from_gamma(int(n*mixing_proportion),\n",
    "                                  a=a1, scale=scale1)\n",
    "    all_vals2 = sample_from_gamma(int(n*(1-mixing_proportion)),\n",
    "                                  a=a2, scale=scale2)\n",
    "\n",
    "    all_vals = []\n",
    "    all_vals.extend(all_vals1)\n",
    "    all_vals.extend(all_vals2)\n",
    "    return np.array(all_vals)"
   ]
  },
  {
   "cell_type": "code",
   "execution_count": 3,
   "metadata": {
    "collapsed": false
   },
   "outputs": [
    {
     "data": {
      "image/png": "[encoded data removed]",
      "text/plain": [
       "<Figure size 600x400 with 1 Axes>"
      ]
     },
     "metadata": {},
     "output_type": "display_data"
    }
   ],
   "source": [
    "mixing_proportion = 0.9\n",
    "n = 50000\n",
    "\n",
    "a1 = 1\n",
    "scale1 = 3\n",
    "a2 = 10\n",
    "scale2 = 2\n",
    "\n",
    "all_vals = generate_sim(mixing_proportion=mixing_proportion,\n",
    "                      n=n,\n",
    "                      a1=a1,\n",
    "                      scale1=scale1,\n",
    "                      a2=a2,\n",
    "                      scale2=scale2)\n",
    "\n",
    "%matplotlib inline\n",
    "from matplotlib import pyplot as plt\n",
    "plt.hist(all_vals, bins=100)\n",
    "plt.show()"
   ]
  },
  {
   "cell_type": "code",
   "execution_count": 4,
   "metadata": {
    "collapsed": false,
    "scrolled": false
   },
   "outputs": [
    {
     "name": "stdout",
     "output_type": "stream",
     "text": [
      "initial vals: [0.7 0.3] [1.93513122 2.46537046] [1.13293332 0.21068611] 2\n",
      "Number of iterations= 593\n",
      "MixParams(mix_prop=array([0.1001018, 0.8998982]), alpha=array([9.50460342, 1.00900462]), invbeta=array([2.11896121, 2.96232565]), k=2)\n"
     ]
    }
   ],
   "source": [
    "import sys\n",
    "sys.path.insert(-1,\"../../modisco\")\n",
    "import gammamix\n",
    "reload(gammamix)\n",
    "results = gammamix.gammamix_em(\n",
    "                all_vals,\n",
    "                #initial guess at the mixing proportion\n",
    "                mix_prop=np.array([0.7, 0.3]),\n",
    "                verb=False)\n",
    "print(results.params)"
   ]
  },
  {
   "cell_type": "code",
   "execution_count": 5,
   "metadata": {
    "collapsed": false,
    "scrolled": false
   },
   "outputs": [
    {
     "name": "stdout",
     "output_type": "stream",
     "text": [
      "MixParams(mix_prop=array([0.1001018, 0.8998982]), alpha=array([9.50460342, 1.00900462]), invbeta=array([2.11896121, 2.96232565]), k=2)\n"
     ]
    },
    {
     "data": {
      "image/png": "[encoded data removed]",
      "text/plain": [
       "<Figure size 600x400 with 1 Axes>"
      ]
     },
     "metadata": {},
     "output_type": "display_data"
    }
   ],
   "source": [
    "print(results.params)\n",
    "plt.hist(generate_sim(mixing_proportion=results[0].mix_prop[0],\n",
    "                      n=n,\n",
    "                      a1=results[0].alpha[0],\n",
    "                      scale1=(results[0].invbeta[0]),\n",
    "                      a2=results[0].alpha[1],\n",
    "                      scale2=(results[0].invbeta[1])), alpha=0.8, bins=100)\n",
    "plt.hist(all_vals,alpha=0.8, bins=100)\n",
    "plt.show()"
   ]
  },
  {
   "cell_type": "code",
   "execution_count": null,
   "metadata": {
    "collapsed": true
   },
   "outputs": [],
   "source": []
  }
 ],
 "metadata": {
  "kernelspec": {
   "display_name": "Python 2",
   "language": "python",
   "name": "python2"
  },
  "language_info": {
   "codemirror_mode": {
    "name": "ipython",
    "version": 2
   },
   "file_extension": ".py",
   "mimetype": "text/x-python",
   "name": "python",
   "nbconvert_exporter": "python",
   "pygments_lexer": "ipython2",
   "version": "2.7.12"
  }
 },
 "nbformat": 4,
 "nbformat_minor": 0
}
