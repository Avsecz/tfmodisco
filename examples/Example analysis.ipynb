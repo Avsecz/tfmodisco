{
 "cells": [
  {
   "cell_type": "markdown",
   "metadata": {},
   "source": [
    "Load importance scores. In this example, these are the importance scores for the positive examples for task 0 in the talgata simulation from the deeplift paper (analysis is done on the test set)"
   ]
  },
  {
   "cell_type": "code",
   "execution_count": null,
   "metadata": {
    "collapsed": false
   },
   "outputs": [
    {
     "name": "stdout",
     "output_type": "stream",
     "text": [
      "File talgata_task0_positives_scores.npy exists already\r\n"
     ]
    }
   ],
   "source": [
    "!./grab_data.sh\n",
    "\n",
    "%matplotlib inline\n",
    "import numpy as np\n",
    "scores = np.load(\"talgata_task0_positives_scores.npy\")\n",
    "print(scores.shape)\n",
    "from modisco.visualization import viz_sequence\n",
    "viz_sequence.plot_weights(scores[0])"
   ]
  },
  {
   "cell_type": "code",
   "execution_count": null,
   "metadata": {
    "collapsed": true
   },
   "outputs": [],
   "source": []
  }
 ],
 "metadata": {
  "kernelspec": {
   "display_name": "Python 2",
   "language": "python",
   "name": "python2"
  },
  "language_info": {
   "codemirror_mode": {
    "name": "ipython",
    "version": 2
   },
   "file_extension": ".py",
   "mimetype": "text/x-python",
   "name": "python",
   "nbconvert_exporter": "python",
   "pygments_lexer": "ipython2",
   "version": "2.7.12"
  }
 },
 "nbformat": 4,
 "nbformat_minor": 0
}
